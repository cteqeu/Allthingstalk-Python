{
 "cells": [
  {
   "cell_type": "markdown",
   "metadata": {},
   "source": [
    "# Sending Values to Allthingstalk\n",
    "created by vincent[at]cteq.eu\n"
   ]
  },
  {
   "cell_type": "code",
   "execution_count": 22,
   "metadata": {},
   "outputs": [],
   "source": [
    "from time import sleep\n",
    "from allthingstalk import Client, Device, IntegerAsset\n",
    "DEVICE_TOKEN = 'DEVICE_TOKEN'\n",
    "DEVICE_ID='DEVICE_ID'\n",
    "\n",
    "class Counter(Device):\n",
    "    counter = IntegerAsset()\n",
    "\n",
    "client = Client(DEVICE_TOKEN)\n",
    "device = Counter(client=client,id=DEVICE_ID)\n",
    "\n",
    "for i in range(10):\n",
    "    device.counter = i\n",
    "    sleep(1)"
   ]
  },
  {
   "cell_type": "code",
   "execution_count": null,
   "metadata": {},
   "outputs": [],
   "source": []
  }
 ],
 "metadata": {
  "kernelspec": {
   "display_name": "Python 3",
   "language": "python",
   "name": "python3"
  },
  "language_info": {
   "codemirror_mode": {
    "name": "ipython",
    "version": 3
   },
   "file_extension": ".py",
   "mimetype": "text/x-python",
   "name": "python",
   "nbconvert_exporter": "python",
   "pygments_lexer": "ipython3",
   "version": "3.7.1"
  }
 },
 "nbformat": 4,
 "nbformat_minor": 2
}
